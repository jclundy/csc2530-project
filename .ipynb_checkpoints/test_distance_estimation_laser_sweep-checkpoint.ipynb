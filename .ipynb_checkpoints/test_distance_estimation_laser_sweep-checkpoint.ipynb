{
 "cells": [
  {
   "cell_type": "code",
   "execution_count": 2,
   "id": "756a63ec-efc4-4dd6-8770-43523e4af305",
   "metadata": {},
   "outputs": [],
   "source": [
    "import numpy as np\n",
    "import argparse\n",
    "import cv2 as cv2\n",
    "import matplotlib.pyplot as plt\n",
    "from PIL import Image\n",
    "\n",
    "import os"
   ]
  },
  {
   "cell_type": "code",
   "execution_count": 20,
   "id": "1ebe1b44-2f35-4532-b155-d17f53907512",
   "metadata": {},
   "outputs": [],
   "source": [
    "skipStep = 1\n",
    "\n",
    "image_size = (1920, 1080) # width, height\n",
    "calibration_file = \"calibration.npz\"\n",
    "\n",
    "calibrationParams = np.load(calibration_file)\n",
    "mtx = calibrationParams['mtx']\n",
    "dist = calibrationParams['dist']\n",
    "\n",
    "w = image_size[0]\n",
    "h = image_size[1]\n",
    "\n",
    "base_folder = \"C:/Users/littl/OneDrive - University of Toronto/Winter 2025/CSC2530/Project/datasets/scans/laser sweep/laserSweepDistanceTests/laserSweep0\"\n",
    "\n",
    "image_folder = os.path.join(base_folder, \"images\")\n",
    "\n",
    "numCaptures = len(os.listdir(image_folder))\n"
   ]
  },
  {
   "cell_type": "code",
   "execution_count": 59,
   "id": "1d0ea6d3-0b3e-470a-ada8-342790cc07fa",
   "metadata": {},
   "outputs": [
    {
     "name": "stdout",
     "output_type": "stream",
     "text": [
      "[[1.43864737e+03 0.00000000e+00 1.01778586e+03]\n",
      " [0.00000000e+00 1.43225687e+03 5.79732557e+02]\n",
      " [0.00000000e+00 0.00000000e+00 1.00000000e+00]]\n"
     ]
    }
   ],
   "source": [
    "print(mtx)"
   ]
  },
  {
   "cell_type": "code",
   "execution_count": 21,
   "id": "3e7d86f1-46d1-49de-885e-e459f3d73e18",
   "metadata": {},
   "outputs": [
    {
     "name": "stdout",
     "output_type": "stream",
     "text": [
      "59\n"
     ]
    }
   ],
   "source": [
    "print(numCaptures)"
   ]
  },
  {
   "cell_type": "code",
   "execution_count": 5,
   "id": "320aedd1-28c8-4167-9b99-334c55fd64c0",
   "metadata": {},
   "outputs": [],
   "source": [
    "outputFolder = \"dot_detection_output\"\n",
    "\n",
    "outputFolder= os.path.join(base_folder, outputFolder) \n",
    "\n",
    "if not os.path.exists(outputFolder):\n",
    "    os.makedirs(outputFolder)"
   ]
  },
  {
   "cell_type": "code",
   "execution_count": 6,
   "id": "e8804b08-1b24-435c-a947-f696787cd3e3",
   "metadata": {},
   "outputs": [
    {
     "name": "stdout",
     "output_type": "stream",
     "text": [
      "creating log file\n"
     ]
    }
   ],
   "source": [
    "print(\"creating log file\")\n",
    "logPath = os.path.join(outputFolder, \"dots.csv\")\n",
    "logFile = open(logPath, \"a\")"
   ]
  },
  {
   "cell_type": "code",
   "execution_count": 12,
   "id": "d56dd493-5222-413a-bb0f-29c53462fdec",
   "metadata": {},
   "outputs": [
    {
     "name": "stdout",
     "output_type": "stream",
     "text": [
      "Capture:  0\n",
      "(1499, 696)\n",
      "Capture:  1\n",
      "(1444, 693)\n",
      "Capture:  2\n",
      "(1404, 693)\n",
      "Capture:  3\n",
      "(1365, 692)\n",
      "Capture:  4\n",
      "(1326, 690)\n",
      "Capture:  5\n",
      "(1288, 689)\n",
      "Capture:  6\n",
      "(1242, 688)\n",
      "Capture:  7\n",
      "(1198, 686)\n",
      "Capture:  8\n",
      "(1168, 685)\n",
      "Capture:  9\n",
      "(1122, 684)\n",
      "Capture:  10\n",
      "(1083, 682)\n",
      "Capture:  11\n",
      "(1055, 681)\n",
      "Capture:  12\n",
      "(1013, 679)\n",
      "Capture:  13\n",
      "(991, 678)\n",
      "Capture:  14\n",
      "(953, 676)\n",
      "Capture:  15\n",
      "(927, 676)\n",
      "Capture:  16\n",
      "(893, 674)\n",
      "Capture:  17\n",
      "(860, 672)\n",
      "Capture:  18\n",
      "(833, 671)\n",
      "Capture:  19\n",
      "(803, 669)\n",
      "Capture:  20\n",
      "(777, 667)\n",
      "Capture:  21\n",
      "(747, 665)\n",
      "Capture:  22\n",
      "(712, 663)\n",
      "Capture:  23\n",
      "(691, 662)\n",
      "Capture:  24\n",
      "(664, 660)\n",
      "Capture:  25\n",
      "(631, 658)\n",
      "Capture:  26\n",
      "(610, 656)\n",
      "Capture:  27\n",
      "(587, 653)\n",
      "Capture:  28\n",
      "(560, 650)\n",
      "Capture:  29\n",
      "(531, 648)\n",
      "Capture:  30\n",
      "(507, 646)\n",
      "Capture:  31\n",
      "(488, 645)\n",
      "Capture:  32\n",
      "(465, 643)\n",
      "Capture:  33\n",
      "(440, 641)\n",
      "Capture:  34\n",
      "(420, 638)\n",
      "Capture:  35\n",
      "(401, 636)\n",
      "Capture:  36\n",
      "(379, 634)\n",
      "Capture:  37\n",
      "(351, 631)\n",
      "Capture:  38\n",
      "(336, 631)\n",
      "Capture:  39\n",
      "(318, 629)\n",
      "Capture:  40\n",
      "(299, 626)\n",
      "Capture:  41\n",
      "(283, 625)\n",
      "Capture:  42\n",
      "(262, 622)\n",
      "Capture:  43\n",
      "(244, 619)\n",
      "Capture:  44\n",
      "(226, 617)\n",
      "Capture:  45\n",
      "(208, 615)\n",
      "Capture:  46\n",
      "(192, 614)\n",
      "Capture:  47\n",
      "(173, 612)\n",
      "Capture:  48\n",
      "(158, 610)\n",
      "Capture:  49\n",
      "(141, 608)\n",
      "Capture:  50\n",
      "(122, 605)\n",
      "Capture:  51\n",
      "(107, 603)\n",
      "Capture:  52\n",
      "(93, 601)\n",
      "Capture:  53\n",
      "(79, 600)\n",
      "Capture:  54\n",
      "(63, 598)\n",
      "Capture:  55\n",
      "(53, 596)\n",
      "Capture:  56\n",
      "(37, 594)\n",
      "Capture:  57\n",
      "(19, 592)\n",
      "Capture:  58\n",
      "(7, 590)\n"
     ]
    }
   ],
   "source": [
    "laserDots = []\n",
    "\n",
    "blur_radius = 5\n",
    "annotation_radius = 10\n",
    "\n",
    "for i in range(0,numCaptures, skipStep):\n",
    "    print(\"Capture: \", str(i))\n",
    "\n",
    "    laserOnImgName = \"capture_\" + str(i) +\".png\"\n",
    "    laserOnImgFile = os.path.join(image_folder, laserOnImgName)   \n",
    " \n",
    "    laserImg = cv2.imread(laserOnImgFile)\n",
    "    laserImg = cv2.cvtColor(laserImg, cv2.COLOR_RGB2BGR )\n",
    "    laserImgGrey = cv2.cvtColor(laserImg, cv2.COLOR_BGR2GRAY)\n",
    "\n",
    "    searchBoxMinX = 1050\n",
    "    searchBoxMinY = 600\n",
    "    searchBoxMaxX = 1350\n",
    "    searchBoxMaxY = 700\n",
    "\n",
    "    searchBoxMinX = int(searchBoxMinX)\n",
    "    searchBoxMinY = int(searchBoxMinY)\n",
    "    searchBoxMaxX = int(searchBoxMaxX)\n",
    "    searchBoxMaxY = int(searchBoxMaxY)\n",
    "    \n",
    "\n",
    "    # print(searchBoxMinX, searchBoxMaxX, searchBoxMinY, searchBoxMaxY)\n",
    "\n",
    "    # searchRegionMask = np.zeros(laserImgGrey.shape, dtype=\"uint8\")\n",
    "    # # print(mask.shape)\n",
    "    # searchRegionMask[searchBoxMinY:searchBoxMaxY, searchBoxMinX:searchBoxMaxX] = 1\n",
    "\n",
    "    # print(np.max(searchRegionMask))\n",
    "    \n",
    "    # outputImgName = str(i) + \"_searchRegionMask.png\"\n",
    "    # \n",
    "    # cv2.imwrite(outputImageFile,searchRegionMask)\n",
    "\n",
    "    laserGrayBlurred = cv2.GaussianBlur(laserImgGrey, (blur_radius, blur_radius), 0)\n",
    "\n",
    "    # searchRegionMasked = np.zeros(laserGrayBlurred.shape)\n",
    "    # searchRegionMasked[searchBoxMinY:searchBoxMaxY, searchBoxMinX:searchBoxMaxX] = laserGrayBlurred[searchBoxMinY:searchBoxMaxY, searchBoxMinX:searchBoxMaxX]\n",
    "    # (minVal, maxVal, minLoc, maxLoc) = cv2.minMaxLoc(searchRegionMasked)\n",
    "\n",
    "    (minVal, maxVal, minLoc, maxLoc) = cv2.minMaxLoc(laserGrayBlurred)\n",
    "\n",
    "    laserDots.append(maxLoc)\n",
    "\n",
    "    line = str(maxLoc[0]) + \", \" + str(maxLoc[1])\n",
    "    logFile.write(line)\n",
    "    logFile.write(\"\\n\")\n",
    "\n",
    "    # outputImgName = str(i) + \"_laserGrayBlurredMasked.png\"\n",
    "    # outputImageFile = os.path.join(outputFolder, outputImgName)\n",
    "\n",
    "    # cv2.imwrite(outputImageFile,searchRegionMasked)\n",
    "    \n",
    "    print(maxLoc)\n",
    "    prevLaserLocation = maxLoc\n",
    "    \n",
    "    annotated = laserImg.copy()\n",
    "    cv2.circle(annotated, maxLoc, annotation_radius, (0, 0, 255), 2)\n",
    "    cv2.rectangle(annotated, (searchBoxMinX, searchBoxMinY), (searchBoxMaxX, searchBoxMaxY),(255, 0, 0),2 )\n",
    "    \n",
    "    outputImgName = str(i) + \"_annotated.png\"\n",
    "    outputImageFile = os.path.join(outputFolder, outputImgName)\n",
    "    cv2.imwrite(outputImageFile,annotated)\n",
    "\n",
    "logFile.close()"
   ]
  },
  {
   "cell_type": "code",
   "execution_count": 56,
   "id": "a8fa98cd-6c77-4abb-94dd-4909400bdce5",
   "metadata": {},
   "outputs": [
    {
     "name": "stdout",
     "output_type": "stream",
     "text": [
      "[[1499  696]\n",
      " [1444  693]\n",
      " [1404  693]\n",
      " [1365  692]\n",
      " [1326  690]\n",
      " [1288  689]\n",
      " [1242  688]\n",
      " [1198  686]\n",
      " [1168  685]\n",
      " [1122  684]\n",
      " [1083  682]\n",
      " [1055  681]\n",
      " [1013  679]\n",
      " [ 991  678]\n",
      " [ 953  676]\n",
      " [ 927  676]\n",
      " [ 893  674]\n",
      " [ 860  672]\n",
      " [ 833  671]\n",
      " [ 803  669]\n",
      " [ 777  667]\n",
      " [ 747  665]\n",
      " [ 712  663]\n",
      " [ 691  662]\n",
      " [ 664  660]\n",
      " [ 631  658]\n",
      " [ 610  656]\n",
      " [ 587  653]\n",
      " [ 560  650]\n",
      " [ 531  648]\n",
      " [ 507  646]\n",
      " [ 488  645]\n",
      " [ 465  643]\n",
      " [ 440  641]\n",
      " [ 420  638]\n",
      " [ 401  636]\n",
      " [ 379  634]\n",
      " [ 351  631]\n",
      " [ 336  631]\n",
      " [ 318  629]\n",
      " [ 299  626]\n",
      " [ 283  625]\n",
      " [ 262  622]\n",
      " [ 244  619]\n",
      " [ 226  617]\n",
      " [ 208  615]\n",
      " [ 192  614]\n",
      " [ 173  612]\n",
      " [ 158  610]\n",
      " [ 141  608]\n",
      " [ 122  605]\n",
      " [ 107  603]\n",
      " [  93  601]\n",
      " [  79  600]\n",
      " [  63  598]\n",
      " [  53  596]\n",
      " [  37  594]\n",
      " [  19  592]\n",
      " [   7  590]]\n"
     ]
    }
   ],
   "source": [
    "print(laserDots)"
   ]
  },
  {
   "cell_type": "code",
   "execution_count": 15,
   "id": "bd512bcf-ac40-4733-9c1c-259ad2f356b3",
   "metadata": {},
   "outputs": [],
   "source": [
    "laserDots = np.asarray(laserDots)"
   ]
  },
  {
   "cell_type": "code",
   "execution_count": 17,
   "id": "57c20dc9-e52e-4ab2-a533-ae1a0772019f",
   "metadata": {},
   "outputs": [],
   "source": [
    "def triangulate_distance(px, M, l, theta):\n",
    "    cx = M[0][2]\n",
    "    cy = M[1][2]\n",
    "    fx = M[0][0]\n",
    "    fy = M[1][1]\n",
    "\n",
    "    alpha = np.atan2((px-cx),fx)\n",
    "    theta2 = np.pi/2 + alpha\n",
    "    theta1 = theta * np.pi / 180\n",
    "    theta3 = np.pi - theta2 - theta1\n",
    "\n",
    "    # print(theta1 *  180/ np.pi, theta2 * 180/ np.pi, theta3 * 180/ np.pi)\n",
    "    # print(alpha*180/np.pi)\n",
    "    \n",
    "    # distance camera to point\n",
    "    R1 =  l / np.sin(theta3) * np.sin(theta1)\n",
    "\n",
    "    return R1"
   ]
  },
  {
   "cell_type": "code",
   "execution_count": 26,
   "id": "1b640309-8fba-411a-81ec-477d125900da",
   "metadata": {},
   "outputs": [
    {
     "name": "stdout",
     "output_type": "stream",
     "text": [
      "[ 53  54  55  56  57  58  59  60  61  62  63  64  65  66  67  68  69  70\n",
      "  71  72  73  74  75  76  77  78  79  80  81  82  83  84  85  86  87  88\n",
      "  89  90  91  92  93  94  95  96  97  98  99 100 101 102 103 104 105 106\n",
      " 107 108 109 110 111]\n"
     ]
    }
   ],
   "source": [
    "pose_file = os.path.join(base_folder, \"pose.csv\")\n",
    "\n",
    "arr = np.loadtxt(pose_file,\n",
    "\t\t\t\tdelimiter=\",\", dtype=int)\n",
    "\n",
    "laserThetas = arr[:,1]\n",
    "print(laserThetas)"
   ]
  },
  {
   "cell_type": "code",
   "execution_count": 52,
   "id": "0b87b585-3233-42ac-a87b-2f440a00b544",
   "metadata": {},
   "outputs": [],
   "source": [
    "M_new, roi = cv2.getOptimalNewCameraMatrix(mtx, dist, (w,h), 1, (w,h))\n",
    "baseline = 19.2"
   ]
  },
  {
   "cell_type": "code",
   "execution_count": 73,
   "id": "3b68845e-2b0b-40f3-8aa2-6f528287ae8d",
   "metadata": {},
   "outputs": [
    {
     "name": "stdout",
     "output_type": "stream",
     "text": [
      "(59, 2)\n",
      "[[1333.55053598  614.81751811]\n",
      " [1293.93053581  611.50740535]\n",
      " [1266.14971058  610.67341485]\n",
      " [1239.71982234  609.3213218 ]\n",
      " [1213.85499917  607.43486597]\n",
      " [1189.15024334  606.28909562]\n",
      " [1159.78469298  605.13925246]\n",
      " [1132.14410143  603.48841097]\n",
      " [1113.51362531  602.6431373 ]\n",
      " [1085.21625805  601.75448353]\n",
      " [1061.41557857  600.35877821]\n",
      " [1044.41082332  599.66360425]\n",
      " [1018.9858289   598.36942473]\n",
      " [1005.69069838  597.74689667]\n",
      " [ 982.73262505  596.5444841 ]\n",
      " [ 967.00731659  596.59175447]\n",
      " [ 946.40323805  595.45816906]\n",
      " [ 926.33179009  594.35727719]\n",
      " [ 909.83213339  593.87437708]\n",
      " [ 891.40442538  592.81570681]\n",
      " [ 875.3348284   591.75423455]\n",
      " [ 856.65415075  590.74349076]\n",
      " [ 834.64118872  589.80358944]\n",
      " [ 821.30416101  589.38146209]\n",
      " [ 804.00665313  588.41030443]\n",
      " [ 782.59438884  587.52865213]\n",
      " [ 768.80918276  586.52373836]\n",
      " [ 753.5586784   584.920109  ]\n",
      " [ 735.41444556  583.37848811]\n",
      " [ 715.60029319  582.5185084 ]\n",
      " [ 698.94406532  581.6009923 ]\n",
      " [ 685.56660905  581.260875  ]\n",
      " [ 669.15606747  580.35081675]\n",
      " [ 651.01155579  579.48808857]\n",
      " [ 636.2788744   577.88793392]\n",
      " [ 622.0555219   576.92933022]\n",
      " [ 605.30704782  576.03589329]\n",
      " [ 583.54823684  574.60810661]\n",
      " [ 571.63625399  574.93020397]\n",
      " [ 557.16968169  573.97962295]\n",
      " [ 541.65379492  572.37487109]\n",
      " [ 528.32991485  572.06733906]\n",
      " [ 510.55718723  570.51272247]\n",
      " [ 495.02555619  568.8816798 ]\n",
      " [ 479.16761963  567.94568861]\n",
      " [ 462.99085991  567.01460602]\n",
      " [ 448.3071831   566.74326915]\n",
      " [ 430.52457294  565.85578008]\n",
      " [ 416.19849338  564.8582793 ]\n",
      " [ 399.6129889   563.923788  ]\n",
      " [ 380.63724446  562.32737266]\n",
      " [ 365.27037512  561.33819218]\n",
      " [ 350.60665625  560.31987455]\n",
      " [ 335.56518256  560.05286929]\n",
      " [ 317.93772959  559.12034969]\n",
      " [ 306.66895063  557.97420716]\n",
      " [ 288.09182231  557.05730103]\n",
      " [ 266.32733205  556.24034371]\n",
      " [ 251.2521922   555.19284771]]\n",
      "[1333.55053598 1293.93053581 1266.14971058 1239.71982234 1213.85499917\n",
      " 1189.15024334 1159.78469298 1132.14410143 1113.51362531 1085.21625805\n",
      " 1061.41557857 1044.41082332 1018.9858289  1005.69069838  982.73262505\n",
      "  967.00731659  946.40323805  926.33179009  909.83213339  891.40442538\n",
      "  875.3348284   856.65415075  834.64118872  821.30416101  804.00665313\n",
      "  782.59438884  768.80918276  753.5586784   735.41444556  715.60029319\n",
      "  698.94406532  685.56660905  669.15606747  651.01155579  636.2788744\n",
      "  622.0555219   605.30704782  583.54823684  571.63625399  557.16968169\n",
      "  541.65379492  528.32991485  510.55718723  495.02555619  479.16761963\n",
      "  462.99085991  448.3071831   430.52457294  416.19849338  399.6129889\n",
      "  380.63724446  365.27037512  350.60665625  335.56518256  317.93772959\n",
      "  306.66895063  288.09182231  266.32733205  251.2521922 ]\n",
      "[ 53  54  55  56  57  58  59  60  61  62  63  64  65  66  67  68  69  70\n",
      "  71  72  73  74  75  76  77  78  79  80  81  82  83  84  85  86  87  88\n",
      "  89  90  91  92  93  94  95  96  97  98  99 100 101 102 103 104 105 106\n",
      " 107 108 109 110 111]\n"
     ]
    }
   ],
   "source": [
    "\n",
    "laserThetas = np.asarray(laserThetas)\n",
    "\n",
    "print(laserDots.shape)\n",
    "# laserPoints = laserDots.reshape((2,-1))\n",
    "# print(laserPoints.shape)\n",
    "# print(laserPoints.dtype)\n",
    "points_undistorted = cv2.undistortPoints(laserDots.astype(np.float64), mtx, dist, None, M_new)\n",
    "\n",
    "points_undistorted = np.reshape(points_undistorted, (-1,2))\n",
    "\n",
    "uVals = points_undistorted[:,0]\n",
    "vVals = points_undistorted[:,1]\n",
    "\n",
    "# print(points_undistorted)\n",
    "# print(uVals)\n",
    "# print(laserThetas)"
   ]
  },
  {
   "cell_type": "code",
   "execution_count": 34,
   "id": "eec690dc-d027-4a9e-8edf-18d36e4a0ecf",
   "metadata": {},
   "outputs": [
    {
     "name": "stdout",
     "output_type": "stream",
     "text": [
      "[107.97427988  89.19495308  80.93831755  74.13334472  68.17824513\n",
      "  63.20791459  57.11707813  52.37460717  50.48785871  46.4458867\n",
      "  43.84943308  42.74869517  40.2958281   39.95820998  38.22298156\n",
      "  37.61742719  36.45144258  35.46743755  34.95221913  34.29519621\n",
      "  33.9179309   33.35606828  32.60091961  32.56671522  32.26760285\n",
      "  31.74324504  31.74817816  31.68069846  31.4727877   31.21516609\n",
      "  31.15471092  31.27356951  31.26303563  31.19733699  31.29973825\n",
      "  31.43787631  31.48814651  31.36797153  31.63861151  31.82507917\n",
      "  31.98669074  32.24016706  32.35328227  32.55848963  32.76902905\n",
      "  32.98522179  33.26493806  33.46469495  33.78690419  34.05881295\n",
      "  34.28004634  34.62709186  35.01453187  35.41407808  35.76446801\n",
      "  36.31728909  36.69547385  37.02229156  37.56296947]\n"
     ]
    }
   ],
   "source": [
    "R_vals = []\n",
    "for i in range(0, uVals.size):\n",
    "\n",
    "    laser_theta = laserThetas[i]\n",
    "    px = uVals[i]\n",
    "    R = triangulate_distance(px, M_new, baseline, laser_theta)\n",
    "    R_vals.append(R)\n",
    "\n",
    "R_vals = np.asarray(R_vals)\n",
    "\n",
    "print(R_vals)"
   ]
  },
  {
   "cell_type": "code",
   "execution_count": 35,
   "id": "2feda4cc-69b2-43c8-b286-e98feb4b02b0",
   "metadata": {},
   "outputs": [
    {
     "data": {
      "text/plain": [
       "[<matplotlib.lines.Line2D at 0x1bf38976ad0>]"
      ]
     },
     "execution_count": 35,
     "metadata": {},
     "output_type": "execute_result"
    },
    {
     "data": {
      "image/png": "[encoded data removed]",
      "text/plain": [
       "<Figure size 640x480 with 1 Axes>"
      ]
     },
     "metadata": {},
     "output_type": "display_data"
    }
   ],
   "source": [
    "plt.plot(laserThetas, R_vals)"
   ]
  },
  {
   "cell_type": "code",
   "execution_count": 44,
   "id": "37243b9e-8403-47a3-89ee-7b28e63f9ca9",
   "metadata": {},
   "outputs": [],
   "source": [
    "Z_vals = []\n",
    "X_vals = []\n",
    "Y_vals = []\n",
    "alpha_vals = []\n",
    "for i in range(0, R_vals.size):\n",
    "\n",
    "    px = uVals[i]\n",
    "    py = vVals[i]\n",
    "\n",
    "    cx = M_new[0][2]\n",
    "    cy = M_new[1][2]\n",
    "    fx = M_new[0][0]\n",
    "    fy = M_new[1][1]\n",
    "\n",
    "    alpha = np.atan2((px-cx),fx)\n",
    "\n",
    "    alpha_vals.append(alpha)\n",
    "    # theta2 = np.pi/2 + alpha\n",
    "    # theta1 = theta * np.pi / 180\n",
    "    # theta3 = np.pi - theta2 - theta1\n",
    "    \n",
    "    # laser_theta = laserThetas[i]\n",
    "    # laser_theta_rad = laser_theta * np.pi / 180\n",
    "    # alpha = np.pi/2 - laser_theta_rad\n",
    "    # print(alpha)\n",
    "    Z = R_vals[i] * np.cos(alpha)\n",
    "    Z_vals.append(Z)\n",
    "    X = R_vals[i] * np.sin(alpha)\n",
    "    X_vals.append(X)\n",
    "\n",
    "    beta = np.atan2((py-cy),fy)\n",
    "    Y = R_vals[i] * np.tan(beta)\n",
    "    Y_vals.append(Y)\n",
    "    \n"
   ]
  },
  {
   "cell_type": "code",
   "execution_count": 49,
   "id": "fabf29b1-e2de-4ab0-a4e7-806a989dd371",
   "metadata": {},
   "outputs": [
    {
     "data": {
      "text/plain": [
       "[<matplotlib.lines.Line2D at 0x1bf3ff83b10>]"
      ]
     },
     "execution_count": 49,
     "metadata": {},
     "output_type": "execute_result"
    },
    {
     "data": {
      "image/png": "[encoded data removed]",
      "text/plain": [
       "<Figure size 640x480 with 1 Axes>"
      ]
     },
     "metadata": {},
     "output_type": "display_data"
    }
   ],
   "source": [
    "alpha_vals = np.asarray(alpha_vals)\n",
    "plt.plot(laserThetas, alpha_vals)"
   ]
  },
  {
   "cell_type": "code",
   "execution_count": 40,
   "id": "72c2c12b-07bd-49a9-857c-aa97ed3efc08",
   "metadata": {},
   "outputs": [
    {
     "data": {
      "text/plain": [
       "[<matplotlib.lines.Line2D at 0x1bf3b6a6990>]"
      ]
     },
     "execution_count": 40,
     "metadata": {},
     "output_type": "execute_result"
    },
    {
     "data": {
      "image/png": "[encoded data removed]",
      "text/plain": [
       "<Figure size 640x480 with 1 Axes>"
      ]
     },
     "metadata": {},
     "output_type": "display_data"
    }
   ],
   "source": [
    "plt.plot(laserThetas, Z_vals)"
   ]
  },
  {
   "cell_type": "code",
   "execution_count": 41,
   "id": "61540e41-bb2c-4337-97b3-eae90830d52b",
   "metadata": {},
   "outputs": [
    {
     "data": {
      "text/plain": [
       "[<matplotlib.lines.Line2D at 0x1bf394c4e10>]"
      ]
     },
     "execution_count": 41,
     "metadata": {},
     "output_type": "execute_result"
    },
    {
     "data": {
      "image/png": "[encoded data removed]",
      "text/plain": [
       "<Figure size 640x480 with 1 Axes>"
      ]
     },
     "metadata": {},
     "output_type": "display_data"
    }
   ],
   "source": [
    "plt.plot(laserThetas, X_vals)"
   ]
  },
  {
   "cell_type": "code",
   "execution_count": 42,
   "id": "4da38446-0aed-4649-9fd6-f58ffd5cdd79",
   "metadata": {},
   "outputs": [
    {
     "data": {
      "text/plain": [
       "[<matplotlib.lines.Line2D at 0x1bf3953c2d0>]"
      ]
     },
     "execution_count": 42,
     "metadata": {},
     "output_type": "execute_result"
    },
    {
     "data": {
      "image/png": "[encoded data removed]",
      "text/plain": [
       "<Figure size 640x480 with 1 Axes>"
      ]
     },
     "metadata": {},
     "output_type": "display_data"
    }
   ],
   "source": [
    "plt.plot(laserThetas, Y_vals)"
   ]
  },
  {
   "cell_type": "code",
   "execution_count": null,
   "id": "f4fcb83b-cf6e-433f-96b7-9f38784b360d",
   "metadata": {},
   "outputs": [],
   "source": []
  }
 ],
 "metadata": {
  "kernelspec": {
   "display_name": "Python 3 (ipykernel)",
   "language": "python",
   "name": "python3"
  },
  "language_info": {
   "codemirror_mode": {
    "name": "ipython",
    "version": 3
   },
   "file_extension": ".py",
   "mimetype": "text/x-python",
   "name": "python",
   "nbconvert_exporter": "python",
   "pygments_lexer": "ipython3",
   "version": "3.13.2"
  }
 },
 "nbformat": 4,
 "nbformat_minor": 5
}
